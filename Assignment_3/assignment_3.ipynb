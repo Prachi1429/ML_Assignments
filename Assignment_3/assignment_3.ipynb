{
 "cells": [
  {
   "cell_type": "code",
   "execution_count": 1,
   "metadata": {},
   "outputs": [
    {
     "name": "stdout",
     "output_type": "stream",
     "text": [
      "P(B|A) =  0.0303030303030303\n"
     ]
    }
   ],
   "source": [
    "# Question 1\n",
    "\n",
    "def conditionProb(pa,pb,Pab):\n",
    "    Pba=(Pab*pb)/pa\n",
    "    print('P(B|A) = ',Pba)\n",
    "    \n",
    "pa=11/36\n",
    "pb=6/36\n",
    "Pab=2/36\n",
    "conditionProb(pa,pb,Pab)"
   ]
  },
  {
   "cell_type": "code",
   "execution_count": 2,
   "metadata": {},
   "outputs": [
    {
     "name": "stdout",
     "output_type": "stream",
     "text": [
      "Probability of drawing ball from bag I given that it is Black=  0.5833333333333334\n"
     ]
    }
   ],
   "source": [
    "# Question 2\n",
    "\n",
    "def probability(p1,p2,P1,P2):\n",
    "    P=(p1*P1)/((p1*P1)+(p2*P2))  #Bayes theorem\n",
    "    print('Probability of drawing ball from bag I given that it is Black= ',P)\n",
    "\n",
    "p1=1/2       #Picking Bag1\n",
    "p2=1/2       #Picking Bag2\n",
    "P1=6/10      #Picking black ball from Bag1\n",
    "P2=3/7       #Picking black ball from Bag2\n",
    "probability(p1,p2,P1,P2)"
   ]
  },
  {
   "cell_type": "code",
   "execution_count": 3,
   "metadata": {},
   "outputs": [
    {
     "name": "stdout",
     "output_type": "stream",
     "text": [
      "Probability that man reports four and number is actually four =  0.28571428571428564\n"
     ]
    }
   ],
   "source": [
    "# Question 3\n",
    "\n",
    "def Probability_report(p1,p2,P1,P2):\n",
    "    P=(p1*P1)/((p1*P1)+(p2*P2))\n",
    "    print('Probability that man reports four and number is actually four = ',P)\n",
    "\n",
    "p1=1/6\n",
    "p2=5/6\n",
    "P1=2/3\n",
    "P2=1-(2/3)\n",
    "Probability_report(p1,p2,P1,P2)"
   ]
  },
  {
   "cell_type": "code",
   "execution_count": null,
   "metadata": {},
   "outputs": [],
   "source": []
  }
 ],
 "metadata": {
  "kernelspec": {
   "display_name": "Python 3",
   "language": "python",
   "name": "python3"
  },
  "language_info": {
   "codemirror_mode": {
    "name": "ipython",
    "version": 3
   },
   "file_extension": ".py",
   "mimetype": "text/x-python",
   "name": "python",
   "nbconvert_exporter": "python",
   "pygments_lexer": "ipython3",
   "version": "3.7.1"
  }
 },
 "nbformat": 4,
 "nbformat_minor": 2
}
